{
 "cells": [
  {
   "cell_type": "code",
   "execution_count": 8,
   "id": "f464db15",
   "metadata": {
    "scrolled": true
   },
   "outputs": [
    {
     "name": "stdout",
     "output_type": "stream",
     "text": [
      "Masukan Email anda : fauzi.97@gmail.com\n",
      "False\n"
     ]
    }
   ],
   "source": [
    "#1\n",
    "email = input('Masukan Email anda : ')\n",
    "pos_at = 0\n",
    "pos_titik = 0\n",
    "pos_at = email.find('@')\n",
    "pos_titik = email.find('.')\n",
    "print(pos_at < pos_titik)"
   ]
  },
  {
   "cell_type": "code",
   "execution_count": 26,
   "id": "ae81325e",
   "metadata": {},
   "outputs": [
    {
     "name": "stdout",
     "output_type": "stream",
     "text": [
      "Masukan Kalimat : SeLamat Datang\n",
      "5374m4t D4t4ng\n"
     ]
    }
   ],
   "source": [
    "#2\n",
    "kalimat = input('Masukan Kalimat : ')\n",
    "i  = 0\n",
    "kata = ''\n",
    "for i in range (len(kalimat)):\n",
    "    if kalimat[i] == 'a' or kalimat[i] == 'A':\n",
    "        kata = kata + '4'\n",
    "    elif kalimat[i] == 'e' or kalimat[i] == 'E':\n",
    "        kata = kata + '3'\n",
    "    elif kalimat[i] == 'L':\n",
    "        kata = kata + '7'\n",
    "    elif kalimat[i] == 'S':\n",
    "        kata = kata + '5'\n",
    "    else:\n",
    "        kata = kata + kalimat[i]\n",
    "print(kata)"
   ]
  },
  {
   "cell_type": "code",
   "execution_count": 31,
   "id": "43617f6e",
   "metadata": {
    "scrolled": true
   },
   "outputs": [
    {
     "name": "stdout",
     "output_type": "stream",
     "text": [
      "5 35 "
     ]
    }
   ],
   "source": []
  }
 ],
 "metadata": {
  "kernelspec": {
   "display_name": "Python 3 (ipykernel)",
   "language": "python",
   "name": "python3"
  },
  "language_info": {
   "codemirror_mode": {
    "name": "ipython",
    "version": 3
   },
   "file_extension": ".py",
   "mimetype": "text/x-python",
   "name": "python",
   "nbconvert_exporter": "python",
   "pygments_lexer": "ipython3",
   "version": "3.9.12"
  }
 },
 "nbformat": 4,
 "nbformat_minor": 5
}
